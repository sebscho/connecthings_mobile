{
 "cells": [
  {
   "cell_type": "code",
   "execution_count": 53,
   "metadata": {},
   "outputs": [
    {
     "name": "stdout",
     "output_type": "stream",
     "text": [
      "Populating the interactive namespace from numpy and matplotlib\n"
     ]
    },
    {
     "name": "stderr",
     "output_type": "stream",
     "text": [
      "/Users/sebscho/anaconda3/lib/python3.6/site-packages/IPython/core/magics/pylab.py:160: UserWarning: pylab import has clobbered these variables: ['plt', 'axes', 'colors']\n",
      "`%matplotlib` prevents importing * from pylab and numpy\n",
      "  \"\\n`%matplotlib` prevents importing * from pylab and numpy\"\n"
     ]
    }
   ],
   "source": [
    "import pandas as pd\n",
    "import numpy as np\n",
    "import pylab as pl\n",
    "from pandas import DataFrame\n",
    "import matplotlib.pylab as plt\n",
    "%pylab inline"
   ]
  },
  {
   "cell_type": "code",
   "execution_count": 57,
   "metadata": {},
   "outputs": [
    {
     "name": "stdout",
     "output_type": "stream",
     "text": [
      "31\n"
     ]
    }
   ],
   "source": [
    "results = pd.read_csv('mobile_response_041418.csv')\n",
    "print (len(results))"
   ]
  },
  {
   "cell_type": "code",
   "execution_count": 59,
   "metadata": {},
   "outputs": [
    {
     "data": {
      "text/html": [
       "<div>\n",
       "<style scoped>\n",
       "    .dataframe tbody tr th:only-of-type {\n",
       "        vertical-align: middle;\n",
       "    }\n",
       "\n",
       "    .dataframe tbody tr th {\n",
       "        vertical-align: top;\n",
       "    }\n",
       "\n",
       "    .dataframe thead th {\n",
       "        text-align: right;\n",
       "    }\n",
       "</style>\n",
       "<table border=\"1\" class=\"dataframe\">\n",
       "  <thead>\n",
       "    <tr style=\"text-align: right;\">\n",
       "      <th></th>\n",
       "      <th>timestamp</th>\n",
       "      <th>everyday_items</th>\n",
       "      <th>clothes_electronics</th>\n",
       "      <th>meal_delivery</th>\n",
       "      <th>games</th>\n",
       "      <th>dating</th>\n",
       "      <th>tickets</th>\n",
       "      <th>rideshare</th>\n",
       "      <th>name</th>\n",
       "      <th>email</th>\n",
       "    </tr>\n",
       "  </thead>\n",
       "  <tbody>\n",
       "    <tr>\n",
       "      <th>0</th>\n",
       "      <td>4/2/2018 17:25:48</td>\n",
       "      <td>At home</td>\n",
       "      <td>At home</td>\n",
       "      <td>At work</td>\n",
       "      <td>Commute</td>\n",
       "      <td>Never</td>\n",
       "      <td>Commute</td>\n",
       "      <td>At home</td>\n",
       "      <td>NaN</td>\n",
       "      <td>NaN</td>\n",
       "    </tr>\n",
       "    <tr>\n",
       "      <th>1</th>\n",
       "      <td>4/4/2018 14:09:51</td>\n",
       "      <td>At home</td>\n",
       "      <td>At home</td>\n",
       "      <td>Commute</td>\n",
       "      <td>Commute</td>\n",
       "      <td>Never</td>\n",
       "      <td>Commute</td>\n",
       "      <td>Leaving home, In areas with few public transit...</td>\n",
       "      <td>NaN</td>\n",
       "      <td>NaN</td>\n",
       "    </tr>\n",
       "    <tr>\n",
       "      <th>2</th>\n",
       "      <td>4/4/2018 14:37:25</td>\n",
       "      <td>Other</td>\n",
       "      <td>Never</td>\n",
       "      <td>Never</td>\n",
       "      <td>Never</td>\n",
       "      <td>Never</td>\n",
       "      <td>At work</td>\n",
       "      <td>Leaving home, Leaving work, In areas far from ...</td>\n",
       "      <td>ella@grandcentraltech.com</td>\n",
       "      <td>NaN</td>\n",
       "    </tr>\n",
       "    <tr>\n",
       "      <th>3</th>\n",
       "      <td>4/4/2018 14:46:25</td>\n",
       "      <td>Never</td>\n",
       "      <td>At home</td>\n",
       "      <td>At home</td>\n",
       "      <td>Commute</td>\n",
       "      <td>At home</td>\n",
       "      <td>At home</td>\n",
       "      <td>Leaving home, In areas far from home, or in a ...</td>\n",
       "      <td>NaN</td>\n",
       "      <td>NaN</td>\n",
       "    </tr>\n",
       "    <tr>\n",
       "      <th>4</th>\n",
       "      <td>4/4/2018 15:59:52</td>\n",
       "      <td>Other</td>\n",
       "      <td>At home</td>\n",
       "      <td>At home</td>\n",
       "      <td>Commute</td>\n",
       "      <td>At home</td>\n",
       "      <td>At home</td>\n",
       "      <td>Leaving home, To replace a daily commute, In a...</td>\n",
       "      <td>NaN</td>\n",
       "      <td>NaN</td>\n",
       "    </tr>\n",
       "  </tbody>\n",
       "</table>\n",
       "</div>"
      ],
      "text/plain": [
       "           timestamp everyday_items clothes_electronics meal_delivery  \\\n",
       "0  4/2/2018 17:25:48        At home             At home       At work   \n",
       "1  4/4/2018 14:09:51        At home             At home       Commute   \n",
       "2  4/4/2018 14:37:25          Other               Never         Never   \n",
       "3  4/4/2018 14:46:25          Never             At home       At home   \n",
       "4  4/4/2018 15:59:52          Other             At home       At home   \n",
       "\n",
       "     games   dating  tickets  \\\n",
       "0  Commute    Never  Commute   \n",
       "1  Commute    Never  Commute   \n",
       "2    Never    Never  At work   \n",
       "3  Commute  At home  At home   \n",
       "4  Commute  At home  At home   \n",
       "\n",
       "                                           rideshare  \\\n",
       "0                                            At home   \n",
       "1  Leaving home, In areas with few public transit...   \n",
       "2  Leaving home, Leaving work, In areas far from ...   \n",
       "3  Leaving home, In areas far from home, or in a ...   \n",
       "4  Leaving home, To replace a daily commute, In a...   \n",
       "\n",
       "                        name email  \n",
       "0                        NaN   NaN  \n",
       "1                        NaN   NaN  \n",
       "2  ella@grandcentraltech.com   NaN  \n",
       "3                        NaN   NaN  \n",
       "4                        NaN   NaN  "
      ]
     },
     "execution_count": 59,
     "metadata": {},
     "output_type": "execute_result"
    }
   ],
   "source": [
    "# rename columns \n",
    "results.columns = ['timestamp', 'everyday_items', 'clothes_electronics', 'meal_delivery', 'games', \n",
    "                'dating', 'tickets', 'rideshare', 'name', 'email']\n",
    "results.head(5)\n"
   ]
  },
  {
   "cell_type": "code",
   "execution_count": 60,
   "metadata": {
    "collapsed": true
   },
   "outputs": [],
   "source": [
    "# drop unnecessary columns\n",
    "results = results.drop(['timestamp','name', 'email'], axis=1)"
   ]
  },
  {
   "cell_type": "code",
   "execution_count": 61,
   "metadata": {
    "collapsed": true
   },
   "outputs": [],
   "source": [
    "# create array for loop\n",
    "iap_type = np.array(['everyday_items', \n",
    "                     'clothes_electronics', 'meal_delivery', 'games', 'dating', 'tickets', \n",
    "                     'rideshare'])"
   ]
  },
  {
   "cell_type": "code",
   "execution_count": 62,
   "metadata": {
    "collapsed": true
   },
   "outputs": [],
   "source": [
    "# create dictionary for names\n",
    "names = {}\n",
    "# define cat as question answer options\n",
    "cat =  results.clothes_electronics.unique()"
   ]
  },
  {
   "cell_type": "code",
   "execution_count": 63,
   "metadata": {},
   "outputs": [
    {
     "data": {
      "text/plain": [
       "Index(['everyday_items', 'clothes_electronics', 'meal_delivery', 'games',\n",
       "       'dating'],\n",
       "      dtype='object')"
      ]
     },
     "execution_count": 63,
     "metadata": {},
     "output_type": "execute_result"
    }
   ],
   "source": [
    "labels = results.columns[:-2]\n",
    "labels"
   ]
  },
  {
   "cell_type": "code",
   "execution_count": 64,
   "metadata": {
    "collapsed": true
   },
   "outputs": [],
   "source": [
    "for i in labels:\n",
    "    names[i] = 0"
   ]
  },
  {
   "cell_type": "code",
   "execution_count": 65,
   "metadata": {},
   "outputs": [
    {
     "data": {
      "text/plain": [
       "{'clothes_electronics': 0,\n",
       " 'dating': 0,\n",
       " 'everyday_items': 0,\n",
       " 'games': 0,\n",
       " 'meal_delivery': 0}"
      ]
     },
     "execution_count": 65,
     "metadata": {},
     "output_type": "execute_result"
    }
   ],
   "source": [
    "names"
   ]
  },
  {
   "cell_type": "code",
   "execution_count": 66,
   "metadata": {
    "collapsed": true
   },
   "outputs": [],
   "source": [
    "for i in names.keys():\n",
    "    vals = []\n",
    "    for j in cat:\n",
    "        vals.append(results[results[i] == j][i].count())\n",
    "        names[i] = vals"
   ]
  },
  {
   "cell_type": "code",
   "execution_count": 67,
   "metadata": {},
   "outputs": [
    {
     "data": {
      "text/html": [
       "<div>\n",
       "<style scoped>\n",
       "    .dataframe tbody tr th:only-of-type {\n",
       "        vertical-align: middle;\n",
       "    }\n",
       "\n",
       "    .dataframe tbody tr th {\n",
       "        vertical-align: top;\n",
       "    }\n",
       "\n",
       "    .dataframe thead th {\n",
       "        text-align: right;\n",
       "    }\n",
       "</style>\n",
       "<table border=\"1\" class=\"dataframe\">\n",
       "  <thead>\n",
       "    <tr style=\"text-align: right;\">\n",
       "      <th></th>\n",
       "      <th>clothes_electronics</th>\n",
       "      <th>dating</th>\n",
       "      <th>everyday_items</th>\n",
       "      <th>games</th>\n",
       "      <th>meal_delivery</th>\n",
       "    </tr>\n",
       "  </thead>\n",
       "  <tbody>\n",
       "    <tr>\n",
       "      <th>At home</th>\n",
       "      <td>18</td>\n",
       "      <td>8</td>\n",
       "      <td>14</td>\n",
       "      <td>4</td>\n",
       "      <td>17</td>\n",
       "    </tr>\n",
       "    <tr>\n",
       "      <th>Never</th>\n",
       "      <td>10</td>\n",
       "      <td>18</td>\n",
       "      <td>13</td>\n",
       "      <td>14</td>\n",
       "      <td>10</td>\n",
       "    </tr>\n",
       "    <tr>\n",
       "      <th>At work</th>\n",
       "      <td>1</td>\n",
       "      <td>2</td>\n",
       "      <td>0</td>\n",
       "      <td>0</td>\n",
       "      <td>1</td>\n",
       "    </tr>\n",
       "    <tr>\n",
       "      <th>Other</th>\n",
       "      <td>1</td>\n",
       "      <td>1</td>\n",
       "      <td>3</td>\n",
       "      <td>0</td>\n",
       "      <td>0</td>\n",
       "    </tr>\n",
       "    <tr>\n",
       "      <th>Commute</th>\n",
       "      <td>1</td>\n",
       "      <td>2</td>\n",
       "      <td>1</td>\n",
       "      <td>13</td>\n",
       "      <td>3</td>\n",
       "    </tr>\n",
       "  </tbody>\n",
       "</table>\n",
       "</div>"
      ],
      "text/plain": [
       "         clothes_electronics  dating  everyday_items  games  meal_delivery\n",
       "At home                   18       8              14      4             17\n",
       "Never                     10      18              13     14             10\n",
       "At work                    1       2               0      0              1\n",
       "Other                      1       1               3      0              0\n",
       "Commute                    1       2               1     13              3"
      ]
     },
     "execution_count": 67,
     "metadata": {},
     "output_type": "execute_result"
    }
   ],
   "source": [
    "# change results to dataframe, index with categories\n",
    "names_df = pd.DataFrame(names, index=cat)\n",
    "names_df"
   ]
  },
  {
   "cell_type": "code",
   "execution_count": 114,
   "metadata": {},
   "outputs": [
    {
     "data": {
      "text/plain": [
       "Text(0.5,1,'dating')"
      ]
     },
     "execution_count": 114,
     "metadata": {},
     "output_type": "execute_result"
    },
    {
     "data": {
      "image/png": "[encoded data removed]",
      "text/plain": [
       "<Figure size 864x576 with 1 Axes>"
      ]
     },
     "metadata": {},
     "output_type": "display_data"
    }
   ],
   "source": [
    "# plotting just one item, in two ways\n",
    "names_df.plot.bar(y = 'dating', figsize=(12,8), color='darkcyan')\n",
    "plt.title('dating')\n",
    "# ax = names_df['dating'].plot(kind='bar', title =\"an item\", figsize=(15, 10), legend=True, fontsize=12)"
   ]
  },
  {
   "cell_type": "code",
   "execution_count": 101,
   "metadata": {},
   "outputs": [],
   "source": [
    "# define function for plotting each item\n",
    "def plotChart (dataset, attribute, axes, color):  \n",
    "    return dataset.plot.bar(y = attribute, ax=axes, color=color, figsize=(11,10))\n",
    "    ax.legend_.remove()\n",
    "\n",
    "#     ax.legend(loc='best', fancybox=True, framealpha=0.5)\n",
    "#     ax.set_title(attribute)"
   ]
  },
  {
   "cell_type": "code",
   "execution_count": 102,
   "metadata": {
    "scrolled": false
   },
   "outputs": [
    {
     "data": {
      "image/png": "[encoded data removed]",
      "text/plain": [
       "<Figure size 792x720 with 6 Axes>"
      ]
     },
     "metadata": {},
     "output_type": "display_data"
    }
   ],
   "source": [
    "columns = ['clothes_electronics', 'dating', 'everyday_items', 'games',\n",
    "       'meal_delivery']\n",
    "\n",
    "colors = ['seagreen', 'slategrey', 'indianred', 'steelblue', 'mediumslateblue']\n",
    "\n",
    "fig, axes = plt.subplots(3,2)\n",
    "axes=axes.flatten()\n",
    "    \n",
    "for i in range(len(columns)):\n",
    "    plotChart(names_df, i, axes[i], colors[i])\n",
    "#     plt.title(columns[i])\n",
    "    fig.tight_layout()\n"
   ]
  },
  {
   "cell_type": "code",
   "execution_count": 105,
   "metadata": {
    "scrolled": false
   },
   "outputs": [
    {
     "data": {
      "text/plain": [
       "<matplotlib.legend.Legend at 0x1139e81d0>"
      ]
     },
     "execution_count": 105,
     "metadata": {},
     "output_type": "execute_result"
    },
    {
     "data": {
      "image/png": "[encoded data removed]",
      "text/plain": [
       "<Figure size 792x576 with 1 Axes>"
      ]
     },
     "metadata": {},
     "output_type": "display_data"
    }
   ],
   "source": [
    "# plot all types by location\n",
    "names_df.plot.bar(figsize=(11,8), align='edge', width=.65, color=colors)\n",
    "plt.title('In App Purchases by Location', fontsize=20)\n",
    "plt.xlabel('Location of IAP', fontsize=20)\n",
    "plt.ylabel('IAP Count', fontsize=20)\n",
    "plt.legend(bbox_to_anchor=(1.05, 1), loc=2, borderaxespad=0., fontsize=10, frameon=True)"
   ]
  },
  {
   "cell_type": "code",
   "execution_count": null,
   "metadata": {
    "collapsed": true
   },
   "outputs": [],
   "source": []
  },
  {
   "cell_type": "code",
   "execution_count": null,
   "metadata": {
    "collapsed": true
   },
   "outputs": [],
   "source": []
  }
 ],
 "metadata": {
  "kernelspec": {
   "display_name": "Python 3",
   "language": "python",
   "name": "python3"
  },
  "language_info": {
   "codemirror_mode": {
    "name": "ipython",
    "version": 3
   },
   "file_extension": ".py",
   "mimetype": "text/x-python",
   "name": "python",
   "nbconvert_exporter": "python",
   "pygments_lexer": "ipython3",
   "version": "3.6.3"
  }
 },
 "nbformat": 4,
 "nbformat_minor": 2
}
